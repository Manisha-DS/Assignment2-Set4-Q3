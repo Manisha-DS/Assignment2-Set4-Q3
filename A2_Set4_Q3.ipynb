{
  "nbformat": 4,
  "nbformat_minor": 0,
  "metadata": {
    "colab": {
      "provenance": []
    },
    "kernelspec": {
      "name": "python3",
      "display_name": "Python 3"
    },
    "language_info": {
      "name": "python"
    }
  },
  "cells": [
    {
      "cell_type": "code",
      "source": [
        "# import libraries #\n",
        "import numpy as np\n",
        "from scipy import stats\n",
        "from scipy.stats import norm"
      ],
      "metadata": {
        "id": "XjqInbxwYerm"
      },
      "execution_count": 1,
      "outputs": []
    },
    {
      "cell_type": "code",
      "source": [
        "# n=100, Population Mean=50, SD=40 As no. of samples is more than 30, we can consider it normal distribution\n",
        "# For No investigation P(45\n",
        "# For Investigation 1-P(45"
      ],
      "metadata": {
        "id": "UwVTmFTQYvO9"
      },
      "execution_count": 2,
      "outputs": []
    },
    {
      "cell_type": "code",
      "source": [
        "# find z-scores at x=45; z=(s_mean-P_mean)/(p_SD/sqrt(n))\n",
        "z=(45-50)/(40/100**0.5)\n",
        "z"
      ],
      "metadata": {
        "colab": {
          "base_uri": "https://localhost:8080/"
        },
        "id": "Sn4y5gdBAy5S",
        "outputId": "1f11401d-0fb1-4ead-80fe-acaf6559dd7e"
      },
      "execution_count": 3,
      "outputs": [
        {
          "output_type": "execute_result",
          "data": {
            "text/plain": [
              "-1.25"
            ]
          },
          "metadata": {},
          "execution_count": 3
        }
      ]
    },
    {
      "cell_type": "code",
      "source": [
        "# find z-scores at x=55; z=(s_mean-P_mean)/(p_SD/sqrt(n))\n",
        "z=(55-50)/(40/100**0.5)\n",
        "z"
      ],
      "metadata": {
        "colab": {
          "base_uri": "https://localhost:8080/"
        },
        "id": "IE09EFGZA_8q",
        "outputId": "11a17664-2d4e-4bbc-eb00-b3fa00dd81dc"
      },
      "execution_count": 4,
      "outputs": [
        {
          "output_type": "execute_result",
          "data": {
            "text/plain": [
              "1.25"
            ]
          },
          "metadata": {},
          "execution_count": 4
        }
      ]
    },
    {
      "cell_type": "code",
      "source": [
        "# For No investigation P(45\n",
        "stats.norm.cdf(1.25)-stats.norm.cdf(-1.25)"
      ],
      "metadata": {
        "colab": {
          "base_uri": "https://localhost:8080/"
        },
        "id": "R8bPn5I_BCl2",
        "outputId": "ef22cf50-0d49-44a4-80be-7f3390034235"
      },
      "execution_count": 5,
      "outputs": [
        {
          "output_type": "execute_result",
          "data": {
            "text/plain": [
              "0.7887004526662893"
            ]
          },
          "metadata": {},
          "execution_count": 5
        }
      ]
    },
    {
      "cell_type": "code",
      "source": [
        "stats.norm.interval(0.7887,loc=50,scale=40/(100**0.5))"
      ],
      "metadata": {
        "colab": {
          "base_uri": "https://localhost:8080/"
        },
        "id": "qVmMOIhCBJK9",
        "outputId": "5206ac32-8ec1-4acc-ca24-30700f2a0912"
      },
      "execution_count": 6,
      "outputs": [
        {
          "output_type": "execute_result",
          "data": {
            "text/plain": [
              "(45.00000495667348, 54.99999504332652)"
            ]
          },
          "metadata": {},
          "execution_count": 6
        }
      ]
    },
    {
      "cell_type": "code",
      "source": [
        "# For Investigation 1-P(45\n",
        "1-0.7887"
      ],
      "metadata": {
        "colab": {
          "base_uri": "https://localhost:8080/"
        },
        "id": "snrSdUJgBQe-",
        "outputId": "6a8d9f8a-06d9-4dcc-daea-2684ca60377b"
      },
      "execution_count": 7,
      "outputs": [
        {
          "output_type": "execute_result",
          "data": {
            "text/plain": [
              "0.21130000000000004"
            ]
          },
          "metadata": {},
          "execution_count": 7
        }
      ]
    }
  ]
}